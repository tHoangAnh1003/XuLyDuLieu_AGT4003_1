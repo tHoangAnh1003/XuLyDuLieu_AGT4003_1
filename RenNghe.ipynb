{
 "cells": [
  {
   "cell_type": "code",
   "execution_count": 54,
   "metadata": {},
   "outputs": [],
   "source": [
    "import pandas as pd\n",
    "import numpy as np\n",
    "import matplotlib.pyplot as plt\n",
    "from scipy.stats import f_oneway\n",
    "import openpyxl\n",
    "import os"
   ]
  },
  {
   "cell_type": "code",
   "execution_count": null,
   "metadata": {},
   "outputs": [],
   "source": [
    "name_sheet = '03122024'"
   ]
  },
  {
   "cell_type": "code",
   "execution_count": 190,
   "metadata": {},
   "outputs": [],
   "source": [
    "data = pd.read_excel(\"Ren_nghe.xlsx\", sheet_name=name_sheet)"
   ]
  },
  {
   "cell_type": "markdown",
   "metadata": {},
   "source": [
    "Chỉ tiêu đầy đủ"
   ]
  },
  {
   "cell_type": "code",
   "execution_count": 191,
   "metadata": {},
   "outputs": [],
   "source": [
    "chi_tieu = ['Chiều cao cây', 'Số lá thật', 'Chu vi gốc', 'SPAD lá già', 'SPAD lá non',\n",
    "            'Số cụm hoa', 'Số nụ hoa', 'Số quả non']"
   ]
  },
  {
   "cell_type": "markdown",
   "metadata": {},
   "source": [
    "Chỉ tiêu không đầy đủ cho những ngày đầu"
   ]
  },
  {
   "cell_type": "code",
   "execution_count": 157,
   "metadata": {},
   "outputs": [],
   "source": [
    "chi_tieu = ['Chiều cao cây', 'Số lá thật', 'Chu vi gốc', 'SPAD lá già', 'SPAD lá non']"
   ]
  },
  {
   "cell_type": "markdown",
   "metadata": {},
   "source": [
    "Chia đôi chỉ tiêu để tạo 2 ảnh"
   ]
  },
  {
   "cell_type": "code",
   "execution_count": 130,
   "metadata": {},
   "outputs": [],
   "source": [
    "chi_tieu_1 = chi_tieu[:4] \n",
    "chi_tieu_2 = chi_tieu[4:] "
   ]
  },
  {
   "cell_type": "markdown",
   "metadata": {},
   "source": [
    "Test số liệu cụm hoa và nụ hoa"
   ]
  },
  {
   "cell_type": "code",
   "execution_count": null,
   "metadata": {},
   "outputs": [],
   "source": [
    "chi_tieu_hoa = ['Số cụm hoa', 'Số nụ hoa']\n",
    "\n",
    "data = data.dropna(subset=chi_tieu_hoa)\n",
    "\n",
    "for ct in chi_tieu_hoa:\n",
    "    mean_values = data.groupby('CT')[ct].mean()\n",
    "    # std_values = data.groupby('CT')[ct].std()\n",
    "    \n",
    "    print(f\"Giá trị trung bình của {ct}:\\n\", mean_values)\n",
    "    # print(f\"Độ lệch chuẩn của \\\"{ct}\\\":\\n\", std_values)"
   ]
  },
  {
   "cell_type": "markdown",
   "metadata": {},
   "source": [
    "Tính toán số liệu"
   ]
  },
  {
   "cell_type": "code",
   "execution_count": null,
   "metadata": {},
   "outputs": [],
   "source": [
    "for ct in chi_tieu:\n",
    "    data[ct] = pd.to_numeric(data[ct], errors='coerce')\n",
    "\n",
    "data = data.dropna(subset=chi_tieu)\n",
    "\n",
    "for ct in chi_tieu:\n",
    "    mean_values = data.groupby('CT')[ct].mean()\n",
    "    std_values = data.groupby('CT')[ct].std()\n",
    "    \n",
    "    print(f\"Giá trị trung bình của {ct}:\\n\", mean_values)\n",
    "    print(f\"Độ lệch chuẩn của \\\"{ct}\\\":\\n\", std_values)"
   ]
  },
  {
   "cell_type": "markdown",
   "metadata": {},
   "source": [
    "Biểu đồ Bar-chart lưu 2 ảnh"
   ]
  },
  {
   "cell_type": "code",
   "execution_count": null,
   "metadata": {},
   "outputs": [],
   "source": [
    "fig1, axes1 = plt.subplots(nrows=len(chi_tieu_1), ncols=1, figsize=(10, 8))\n",
    "\n",
    "for i, ct in enumerate(chi_tieu_1):\n",
    "    mean_values = data.groupby('CT')[ct].mean()\n",
    "    std_values = data.groupby('CT')[ct].std()\n",
    "    \n",
    "    axes1[i].bar(mean_values.index, mean_values, yerr=std_values, capsize=5, color='skyblue', edgecolor='black')\n",
    "    axes1[i].set_title(f'{ct} theo công thức')\n",
    "    axes1[i].set_xlabel('Công thức')\n",
    "    axes1[i].set_ylabel(ct)\n",
    "    axes1[i].grid(axis='y', linestyle='--', alpha=0.7)\n",
    "\n",
    "plt.tight_layout()\n",
    "plt.show()\n",
    "\n",
    "fig2, axes2 = plt.subplots(nrows=len(chi_tieu_2), ncols=1, figsize=(10, 8))\n",
    "\n",
    "for i, ct in enumerate(chi_tieu_2):\n",
    "    mean_values = data.groupby('CT')[ct].mean()\n",
    "    std_values = data.groupby('CT')[ct].std()\n",
    "    \n",
    "    axes2[i].bar(mean_values.index, mean_values, yerr=std_values, capsize=5, color='skyblue', edgecolor='black')\n",
    "    axes2[i].set_title(f'{ct} theo công thức')\n",
    "    axes2[i].set_xlabel('Công thức')\n",
    "    axes2[i].set_ylabel(ct)\n",
    "    axes2[i].grid(axis='y', linestyle='--', alpha=0.7)\n",
    "\n",
    "plt.tight_layout()\n",
    "plt.show()"
   ]
  },
  {
   "cell_type": "markdown",
   "metadata": {},
   "source": [
    "Test Anova"
   ]
  },
  {
   "cell_type": "code",
   "execution_count": null,
   "metadata": {},
   "outputs": [],
   "source": [
    "for ct in chi_tieu:\n",
    "    groups = [data[data['CT'] == ct_group][ct] for ct_group in data['CT'].unique()]\n",
    "    \n",
    "    f_stat, p_value = f_oneway(*groups)\n",
    "    \n",
    "    print(f\"Phân tích ANOVA cho {ct}:\")\n",
    "    print(f\"F-statistic: {f_stat}\")\n",
    "    print(f\"P-value: {p_value}\")\n",
    "    if p_value < 0.05:\n",
    "        print(\"Kết luận: Có sự khác biệt đáng kể giữa các công thức.\\n\")\n",
    "    else:\n",
    "        print(\"Kết luận: Không có sự khác biệt đáng kể giữa các công thức.\\n\")\n",
    "    print(\"-\" * 50)"
   ]
  },
  {
   "cell_type": "markdown",
   "metadata": {},
   "source": [
    "Biểu đồ Bar-chart lưu một ảnh"
   ]
  },
  {
   "cell_type": "code",
   "execution_count": null,
   "metadata": {},
   "outputs": [],
   "source": [
    "fig, axes = plt.subplots(nrows=len(chi_tieu), ncols=1, figsize=(10, 8))\n",
    "\n",
    "for i, ct in enumerate(chi_tieu):\n",
    "    mean_values = data.groupby('CT')[ct].mean()\n",
    "    std_values = data.groupby('CT')[ct].std()\n",
    "    \n",
    "    axes[i].bar(mean_values.index, mean_values, yerr=std_values, capsize=5, color='skyblue', edgecolor='black')\n",
    "    axes[i].set_title(f'{ct} theo công thức')\n",
    "    axes[i].set_xlabel('Công thức')\n",
    "    axes[i].set_ylabel(ct)\n",
    "    axes[i].grid(axis='y', linestyle='--', alpha=0.7)\n",
    "\n",
    "plt.tight_layout()\n",
    "plt.show()"
   ]
  },
  {
   "cell_type": "markdown",
   "metadata": {},
   "source": [
    "Số liệu Mean, Std, ANOVA lưu vào file execl"
   ]
  },
  {
   "cell_type": "code",
   "execution_count": 188,
   "metadata": {},
   "outputs": [],
   "source": [
    "file_name = f'{name_sheet}.xlsx'\n",
    "results = pd.DataFrame()\n",
    "\n",
    "for ct in chi_tieu:\n",
    "    mean_values = data.groupby('CT')[ct].mean()\n",
    "    std_values = data.groupby('CT')[ct].std()\n",
    "    \n",
    "    results[f'{ct} (Mean)'] = mean_values.round(2)\n",
    "    results[f'{ct} (Std)'] = std_values.round(2)\n",
    "    \n",
    "    groups = [data[data['CT'] == ct_group][ct] for ct_group in data['CT'].unique()]\n",
    "    if len(groups) > 1:  \n",
    "        anova_result = f_oneway(*groups)\n",
    "        results[f'{ct} (ANOVA p-value)'] = anova_result.pvalue\n",
    "        results[f'{ct} (ANOVA F)'] = anova_result.statistic\n",
    "\n",
    "with pd.ExcelWriter(file_name, engine='openpyxl') as writer:\n",
    "    columns_to_export = results.columns.tolist()\n",
    "    \n",
    "    results[columns_to_export].to_excel(writer, index=True, sheet_name='Kết quả')\n",
    "    \n",
    "    worksheet = writer.sheets['Kết quả']\n",
    "    \n",
    "    for col in worksheet.columns:\n",
    "        max_length = max(len(str(cell.value)) for cell in col)\n",
    "        worksheet.column_dimensions[col[0].column_letter].width = max_length + 2\n",
    "    \n",
    "    for cell in worksheet[1]:\n",
    "        cell.fill = openpyxl.styles.PatternFill(start_color=\"FFFF00\", end_color=\"FFFF00\", fill_type=\"solid\")"
   ]
  },
  {
   "cell_type": "markdown",
   "metadata": {},
   "source": [
    "Nối các file excel"
   ]
  },
  {
   "cell_type": "code",
   "execution_count": 195,
   "metadata": {},
   "outputs": [],
   "source": [
    "file_paths = ['08102024.xlsx', '15102024.xlsx', '22102024.xlsx', '29102024.xlsx',\n",
    "              '05112024.xlsx', '12112024.xlsx', '19112024.xlsx', '26112024.xlsx',\n",
    "              '03122024.xlsx'] \n",
    "\n",
    "dfs = []\n",
    "\n",
    "for file in file_paths:\n",
    "    df = pd.read_excel(file)\n",
    "    dfs.append(df)\n",
    "\n",
    "combined_df = pd.concat(dfs, ignore_index=True)\n",
    "\n",
    "combined_df.to_excel('TongHop.xlsx', index=False)"
   ]
  }
 ],
 "metadata": {
  "kernelspec": {
   "display_name": "Python 3",
   "language": "python",
   "name": "python3"
  },
  "language_info": {
   "codemirror_mode": {
    "name": "ipython",
    "version": 3
   },
   "file_extension": ".py",
   "mimetype": "text/x-python",
   "name": "python",
   "nbconvert_exporter": "python",
   "pygments_lexer": "ipython3",
   "version": "3.13.0"
  }
 },
 "nbformat": 4,
 "nbformat_minor": 2
}
